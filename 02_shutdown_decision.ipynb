{
 "cells": [
  {
   "cell_type": "code",
   "execution_count": 7,
   "id": "0aa5796b-283f-43da-9477-11c5f24d93d7",
   "metadata": {},
   "outputs": [],
   "source": [
    "import logging\n",
    "import pandas as pd\n",
    "from datetime import datetime"
   ]
  },
  {
   "cell_type": "code",
   "execution_count": 43,
   "id": "a27d3568-28d1-4042-a1d1-d630a6924972",
   "metadata": {
    "tags": []
   },
   "outputs": [
    {
     "name": "stderr",
     "output_type": "stream",
     "text": [
      "2024-06-28 12:23:56 [   DEBUG] logger start\n"
     ]
    }
   ],
   "source": [
    "log = logging.getLogger(__name__)\n",
    "logFormatter = logging.Formatter('%(asctime)s [%(levelname)8s] %(message)s', '%Y-%m-%d %H:%M:%S') # 8s because 8 chars for CRITICAL # Only log the day for the date\n",
    "log.setLevel(logging.DEBUG)\n",
    "if 'StreamHandler' not in [ type(h).__name__ for h in log.handlers] :\n",
    "    ch = logging.StreamHandler()\n",
    "    ch.setFormatter(logFormatter)\n",
    "    log.addHandler(ch)\n",
    "try : \n",
    "    if 'FileHandler' not in [ type(h).__name__ for h in log.handlers] :\n",
    "        fh = logging.FileHandler('/tmp/current_shutdown_decision.log', mode='w') # Overwrite\n",
    "        fh.setFormatter(logFormatter)\n",
    "        log.addHandler(fh)\n",
    "except PermissionError as e :\n",
    "    log.warning('Cannot write log to /tmp/current_shutdown_decision.log due to permission error (are we developing using Enrices user ?)')\n",
    "\n",
    "log.debug('logger start')"
   ]
  },
  {
   "cell_type": "markdown",
   "id": "d89a8849-e7d5-4989-905d-ae7bd39f9169",
   "metadata": {},
   "source": [
    "---"
   ]
  },
  {
   "cell_type": "code",
   "execution_count": null,
   "id": "803c70a4-e609-47bf-bdd2-c2d8b585be85",
   "metadata": {},
   "outputs": [],
   "source": [
    "##########################################\n",
    "log.info('# 2. Deciding on Shutdown...')\n",
    "##########################################"
   ]
  },
  {
   "cell_type": "code",
   "execution_count": 15,
   "id": "37e9f0ac-efc5-4f13-909e-6da7249d93ff",
   "metadata": {
    "tags": []
   },
   "outputs": [],
   "source": [
    "l_cols = ['time_run', 'seconds_uptime', 'cpu_last_1min', 'cpu_last_5min', 'cpu_last_15min', 'time_most_recent_python_file', 'time_most_recent_kernel_activity']\n",
    "df = pd.read_csv('./data/activity_signals.csv', names=l_cols, header=None)"
   ]
  },
  {
   "cell_type": "code",
   "execution_count": 42,
   "id": "75b3f6f9-338d-48b4-bfcc-b494650d841c",
   "metadata": {
    "tags": []
   },
   "outputs": [
    {
     "name": "stderr",
     "output_type": "stream",
     "text": [
      "2024-06-28 12:22:02 [    INFO] total inactivity_points = 0 < 60.. Just silently exiting this process.\n"
     ]
    }
   ],
   "source": [
    "# We increment a counted \"inactivty_points\", by a rate which depends on the hour of the day\n",
    "# At 60 points, we shutdown the machine\n",
    "inactivity_points = 0\n",
    "\n",
    "# These are the timeout_duration \"x\" = \"At this rate, it would take x hours to shutdown the machine\"\n",
    "# We will cumulate by the INVERT (1/x) of this duration. We keep duration here for easier interpretation.\n",
    "# Time in Switzerland :  2,  3,  4,  5,  6,  7,  8,  9, 10, 11, 12, 13, 14, 15, 16, 17, 18, 19, 20, 21, 22, 23, 0,  1\n",
    "# Time in UTC         :  0,  1,  2,  3,  4,  5,  6,  7,  8,  9, 10, 11, 12, 13, 14, 15, 16, 17, 18, 19, 20, 21, 22, 23\n",
    "L_TIMEOUT_BY_UTC_HOUR = [1,  1,  1,  1,  1,  1,  3,  6,  6,  6,  6,  6,  6,  6,  6,  6,  6,  6,  5,  4,  3,  2,  2, 1]\n",
    "\n",
    "for _, r in df.sort_values('time_run', ascending=False).iterrows() :\n",
    "    \n",
    "    # If active, then break\n",
    "    if (\n",
    "        r['seconds_uptime'] < 120\n",
    "        or r['cpu_last_1min'] > .50\n",
    "        or r['cpu_last_5min'] > .25\n",
    "        or r['cpu_last_15min'] > .15\n",
    "        or r['time_most_recent_python_file'] > r['time_run'] - 2*60\n",
    "        or r['time_most_recent_kernel_activity'] > r['time_run'] - 2*60\n",
    "    ) :\n",
    "        break\n",
    "        \n",
    "    # Else, cumulate :\n",
    "    inactivity_points += 1 / L_TIMEOUT_BY_UTC_HOUR[datetime.fromtimestamp(r['time_run']).hour]\n",
    "    \n",
    "    if inactivity_points > 60 :\n",
    "        # Safeguard: do not shutdown if the system has been running for less than 1 hour\n",
    "        with open('/proc/uptime', 'r') as f:\n",
    "            uptime_seconds = float(f.readline().split()[0])\n",
    "        if uptime_seconds < 3600. :\n",
    "            log.warning(f'inactivity_points={d_persisted[\"inactivity_points\"]}>= 60., but uptime_seconds={uptime_seconds}<3600. Keeping the machine running...')\n",
    "        else :\n",
    "            log.info(f'inactivity_points={d_persisted[\"inactivity_points\"]}>= 60., shuting down the machine immediately.')\n",
    "            # Additionally, persist this log\n",
    "            shutil.copyfile('/tmp/current_shutdown_decision.log', './log/02_shutdown_decision/last_shutdown.log')\n",
    "            os.system('shutdown -h now')\n",
    "\n",
    "log.info(f'total inactivity_points = {inactivity_points} < 60.. Just silently exiting this process.')"
   ]
  },
  {
   "cell_type": "code",
   "execution_count": null,
   "id": "cfb3f4ad-0e15-48e7-a0f6-469e59e612de",
   "metadata": {},
   "outputs": [],
   "source": []
  }
 ],
 "metadata": {
  "kernelspec": {
   "display_name": "Python 3 (ipykernel)",
   "language": "python",
   "name": "python3"
  },
  "language_info": {
   "codemirror_mode": {
    "name": "ipython",
    "version": 3
   },
   "file_extension": ".py",
   "mimetype": "text/x-python",
   "name": "python",
   "nbconvert_exporter": "python",
   "pygments_lexer": "ipython3",
   "version": "3.10.9"
  }
 },
 "nbformat": 4,
 "nbformat_minor": 5
}
