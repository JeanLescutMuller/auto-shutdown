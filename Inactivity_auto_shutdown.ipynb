{
 "cells": [
  {
   "cell_type": "code",
   "execution_count": null,
   "id": "71f18c82-449d-4658-891b-3519034d15a1",
   "metadata": {
    "tags": []
   },
   "outputs": [],
   "source": [
    "# Init to create N (in this case N=30) log files, for manual Rotating logs via Bash (See cron below)\n",
    "\n",
    "# ! mkdir -p ./rotating_logs\n",
    "# ! mkdir -p ./shutdown_logs\n",
    "# ! touch ./rotating_logs/{10..40}.log # Starting at 10 to make sure there is 2 chars\n",
    "# ! touch ./rotating_logs/{0..120}.log"
   ]
  },
  {
   "cell_type": "code",
   "execution_count": null,
   "id": "d6087fb8-2b58-4e57-8f87-c09b75e3e932",
   "metadata": {},
   "outputs": [],
   "source": [
    "# Please add 2 lines in CRON : \n",
    "# 1 to delete /tmp/ at reboot, just in case\n",
    "# 1 to run the script every minute, log in rotating log files, and redirect stderr to stdout (to log everything, including exceptions)\n",
    "\n",
    "# # Example of job definition:\n",
    "# # .---------------- minute (0 - 59)\n",
    "# # |  .------------- hour (0 - 23)\n",
    "# # |  |  |  .------- month (1 - 12) OR jan,feb,mar,apr ...\n",
    "# # |  |  |  |  .---- day of week (0 - 6) (Sunday=0 or 7) OR sun,mon,tue,wed,thu,fri,sat\n",
    "# # |  |  |  |  |\n",
    "# # *  *  *  *  * user-name command to be executed\n",
    "\n",
    "# @reboot         root    rm -f /tmp/auto_shutdown_data.json # JustInCase /tmp/ is not flushed at reboot\n",
    "\n",
    "# Prefer option 2 here below (PREFER OPTION 2)\n",
    "# With option 1, In case of reboot, we could overwrite the MOST recent file (same minute than before reboot)\n",
    "# *  *    * * *   root    cd /home/enrices/Auto_Shutdown && /opt/anaconda3/bin/python3 Inactivity_auto_shutdown.py **PASSWORD** > ./rotating_logs/minute=`date +\\%M`.log 2>&1\n",
    "# *  *    * * *   root    cd /home/enrices/Auto_Shutdown && /opt/anaconda3/bin/python3 Inactivity_auto_shutdown.py **PASSWORD** > ./rotating_logs/$(ls -tr ./rotating_logs/ | head -n 1) 2>&1"
   ]
  },
  {
   "cell_type": "code",
   "execution_count": null,
   "id": "0aa5796b-283f-43da-9477-11c5f24d93d7",
   "metadata": {},
   "outputs": [],
   "source": [
    "import os\n",
    "import subprocess\n",
    "import re\n",
    "from datetime import datetime, timedelta\n",
    "import logging\n",
    "import json\n",
    "import shutil\n",
    "\n",
    "# For querying Jupyter API :\n",
    "import requests\n",
    "from bs4 import BeautifulSoup"
   ]
  },
  {
   "cell_type": "code",
   "execution_count": null,
   "id": "a27d3568-28d1-4042-a1d1-d630a6924972",
   "metadata": {
    "tags": []
   },
   "outputs": [],
   "source": [
    "log = logging.getLogger(__name__)\n",
    "logFormatter = logging.Formatter('%(asctime)s [%(levelname)8s] %(message)s', '%Y-%m-%d %H:%M:%S') # 8s because 8 chars for CRITICAL # Only log the day for the date\n",
    "log.setLevel(logging.DEBUG)\n",
    "if 'StreamHandler' not in [ type(h).__name__ for h in log.handlers] :\n",
    "    ch = logging.StreamHandler()\n",
    "    ch.setFormatter(logFormatter)\n",
    "    log.addHandler(ch)\n",
    "try : \n",
    "    if 'FileHandler' not in [ type(h).__name__ for h in log.handlers] :\n",
    "        fh = logging.FileHandler('/tmp/latest_auto_shutdown.log', mode='w') # Overwrite\n",
    "        fh.setFormatter(logFormatter)\n",
    "        log.addHandler(fh)\n",
    "except PermissionError as e :\n",
    "    log.warning('Cannot write log to /tmp/latest_auto_shutdown.log due to permission error (are we developing using Enrices user ?)')\n",
    "\n",
    "log.debug('logger start')"
   ]
  },
  {
   "cell_type": "code",
   "execution_count": null,
   "id": "698879df-e4f5-4193-bd17-ddfc2acf0a55",
   "metadata": {},
   "outputs": [],
   "source": [
    "# v2.1 HotFix to obfuscate password, before pushing to Github Public Repo \n",
    "import sys\n",
    "import getpass\n",
    "\n",
    "# Getting password to authenticate to jupyter API :\n",
    "if sys.argv[0].split('/')[-1] == 'ipykernel_launcher.py' :\n",
    "    jupyter_password = getpass.getpass('jupyter_password =')\n",
    "else :\n",
    "    assert len(sys.argv) > 1, 'You must pass the jupyter password as argument of this script !'\n",
    "    jupyter_password = sys.argv[1]"
   ]
  },
  {
   "cell_type": "markdown",
   "id": "d89a8849-e7d5-4989-905d-ae7bd39f9169",
   "metadata": {},
   "source": [
    "---"
   ]
  },
  {
   "cell_type": "code",
   "execution_count": null,
   "id": "3970da3d-0697-42da-a058-79ec0acd01ba",
   "metadata": {
    "tags": []
   },
   "outputs": [],
   "source": [
    "##########################################\n",
    "log.info('# 1. Activity signals :')\n",
    "##########################################"
   ]
  },
  {
   "cell_type": "code",
   "execution_count": null,
   "id": "b39ec6f2-c7a8-4e38-ab92-354b550a0d82",
   "metadata": {},
   "outputs": [],
   "source": [
    "now = datetime.now() # Note that time is UTC\n",
    "\n",
    "def analyze_current_activities() :\n",
    "    \n",
    "    ##########################################\n",
    "    log.info('  ## Signal 1 : Total CPU load for the last 60 seconds')\n",
    "    ##########################################\n",
    "    d_cpu_thresholds = {'last_minute': .50, 'last_5_minutes': .25, 'last_15_minutes': .15}\n",
    "    raw = subprocess.check_output('uptime').decode(\"utf8\")\n",
    "    log.debug(f'    Raw output of \"uptime\": {raw.strip()}')\n",
    "    m = re.search('load average: ([0-9\\.]+?), ([0-9\\.]+?), ([0-9\\.]+?)\\n', raw)\n",
    "    if m : \n",
    "        for i, (agg_name, threshold) in enumerate(d_cpu_thresholds.items()) :\n",
    "            value = float(m.group(i+1))\n",
    "            if value > threshold :\n",
    "                log.info(f'    CPU agg \"{agg_name}\" is {value} > {threshold}. We are currently ACTIVE')\n",
    "                return True\n",
    "            else :\n",
    "                log.debug(f'    CPU agg \"{agg_name}\" is {value} <= {threshold}. Cannot say we are active...')\n",
    "        \n",
    "    \n",
    "    ##########################################\n",
    "    log.info('  ## Signal 2 : Recently saved .ipynb files in /home/enrices/')\n",
    "    ##########################################\n",
    "    cmd = \"find /home/enrices/ -type f -name '*.ipynb' -newermt '1 minute ago'\"\n",
    "    output = subprocess.check_output(cmd, shell=True).decode(\"utf8\").strip('\\n')\n",
    "    set_recently_saved_files = set() if len(output)==0 else set(output.split('\\n'))\n",
    "    log.debug(f'    set_recently_saved_files = {set_recently_saved_files}')\n",
    "    N_recently_saved_files = len(set_recently_saved_files)\n",
    "    if N_recently_saved_files == 0 :\n",
    "        log.debug(f'    N_recently_saved_files = 0. Cannot say we are active...')\n",
    "    else :\n",
    "        log.info(f'    N_recently_saved_files = {N_recently_saved_files}. We are currently ACTIVE')\n",
    "        return True\n",
    "\n",
    "\n",
    "    ##########################################\n",
    "    log.info('  ## Signal 3 : Jupyter Kernel Activities')\n",
    "    ##########################################\n",
    "    jupyter_api_url = 'http://127.0.0.1/jupyter' # protocol://ip:port/prefix (all of them can change !)\n",
    "\n",
    "    def authenticated_session() :\n",
    "        # Note : this will authenticate ONLY for the given jupyter_api_url.\n",
    "        # I.E : if using localhost, the session will only be allowed to query API towards localhost... etc...\n",
    "        s = requests.Session()\n",
    "        url = f'{jupyter_api_url}/login?next=%2F'\n",
    "        r = s.get(url)\n",
    "        # print(r.status_code)\n",
    "        parsed_html = BeautifulSoup(r.content.decode('utf8'), features=\"lxml\")\n",
    "        _xsrf = parsed_html.body.find('input', attrs={'name':'_xsrf'}).get('value')\n",
    "        r = s.post(url,params = {'_xsrf': _xsrf, 'password': jupyter_password})\n",
    "        # print(r.status_code)\n",
    "        return s\n",
    "    # For other mode of authentication (if you're not using passwords for example) please see token\n",
    "    # https://jupyterhub.readthedocs.io/en/stable/howto/rest.htmlhttps://jupyterhub.readthedocs.io/en/stable/howto/rest.html\n",
    "\n",
    "    s = authenticated_session()\n",
    "    log.debug('    Succesfully authenticated.')\n",
    "\n",
    "    resp = s.get(f'{jupyter_api_url}/api/sessions')\n",
    "    l_sessions = json.loads(resp.content)\n",
    "    if len(l_sessions) == 0 :\n",
    "        log.debug(f'    No Jupyter Sessions. Cannot say we are active...')\n",
    "    else :\n",
    "        l_kernel_states = [ d_session['kernel']['execution_state']=='busy' for d_session in l_sessions ]\n",
    "        if any(l_kernel_states) :\n",
    "            log.info(f'    l_kernel_states={l_kernel_states}. We are currently ACTIVE')\n",
    "            return True\n",
    "        else :\n",
    "            log.debug(f'    l_kernel_states={l_kernel_states}. Cannot say we are active...')\n",
    "            \n",
    "        most_recent_kernel_activity = max([ d_session['kernel']['last_activity'] for d_session in l_sessions ])\n",
    "        most_recent_kernel_activity = datetime.fromisoformat(most_recent_kernel_activity.rstrip('Z'))\n",
    "        if (now - most_recent_kernel_activity).total_seconds() < 60 :\n",
    "            log.info(f'    most_recent_kernel_activity={most_recent_kernel_activity} --> Less than 60 seconds ago. We are currently ACTIVE')\n",
    "            return True\n",
    "        else :\n",
    "            log.debug(f'    most_recent_kernel_activity={most_recent_kernel_activity} --> More than 60 seconds ago. Cannot say we are active...')\n",
    "   \n",
    "    return False\n",
    "\n",
    "is_currently_active = analyze_current_activities()\n",
    "log.debug(f'is_currently_active = {is_currently_active}')"
   ]
  },
  {
   "cell_type": "markdown",
   "id": "fec98956-7d87-4df1-b5c5-e23ae4630ff8",
   "metadata": {},
   "source": [
    "----"
   ]
  },
  {
   "cell_type": "code",
   "execution_count": null,
   "id": "798b6e43-2bd5-4fe7-a579-c163445e335d",
   "metadata": {
    "tags": []
   },
   "outputs": [],
   "source": [
    "##########################################\n",
    "log.info('# 2. Preparing persistent data (maybe from the file on-disk)')\n",
    "##########################################\n",
    "\n",
    "path = '/tmp/auto_shutdown_data.json' # /tmp/ will be cleaned at restart\n",
    "\n",
    "if not os.path.exists(path) or is_currently_active is True :\n",
    "    d_persisted = dict(\n",
    "        inactivity_points = 0,\n",
    "        last_activity_datetime_str = now.isoformat()\n",
    "    )\n",
    "    \n",
    "else :\n",
    "    with open(path, 'r') as file :\n",
    "        d_persisted = json.load(file)\n",
    "    \n",
    "    # \"Hour of the day\" --> Inactivity points that are gained incrementally\n",
    "    # At 60 points, we shutdown the machine\n",
    "    # So 1/x means \"At this rate, it would take x hours to shutdown the machine\"\n",
    "    # Reminder : These \"hours\" are UTC\n",
    "    d_inactivity_points = {k:1/v for k,v in {\n",
    "        23:1, 0:1, 1:1, 2:1, 3:1, 4:1, 5:1,\n",
    "        6:3,\n",
    "        7:6, 8:6,  9:6, 10:6, 11:6, 12:6, 13:6, 14:6, 15:6, 16:6, 17:6,\n",
    "        18:5,\n",
    "        19:4,\n",
    "        20:3,\n",
    "        21:2, 22:2,\n",
    "    }.items() }\n",
    "    d_persisted['inactivity_points'] += d_inactivity_points[now.hour]"
   ]
  },
  {
   "cell_type": "markdown",
   "id": "e126a918-73f9-4e7e-88c0-e47d69e14f43",
   "metadata": {},
   "source": [
    "----"
   ]
  },
  {
   "cell_type": "code",
   "execution_count": null,
   "id": "9531c855-d339-439f-bf08-9d7f1d6d96d6",
   "metadata": {},
   "outputs": [],
   "source": [
    "##########################################\n",
    "log.info('# 3. Writing data back to disk...')\n",
    "##########################################\n",
    "\n",
    "with open(path, 'w') as file :\n",
    "    json.dump(d_persisted, file, indent=3)"
   ]
  },
  {
   "cell_type": "markdown",
   "id": "d884c86a-a71c-4fd0-bf4e-b8ce25e771f2",
   "metadata": {},
   "source": [
    "---"
   ]
  },
  {
   "cell_type": "code",
   "execution_count": null,
   "id": "baf729ae-3742-442e-a36c-8d7d22a8f4ed",
   "metadata": {
    "tags": []
   },
   "outputs": [],
   "source": [
    "##########################################\n",
    "log.info('# 4. Deciding on Shutdown...')\n",
    "##########################################\n",
    "\n",
    "if d_persisted['inactivity_points'] > 60 :\n",
    "    \n",
    "    # Last Safeguard: do not shutdown if the system has been running for less than 1 hour\n",
    "    with open('/proc/uptime', 'r') as f:\n",
    "        uptime_seconds = float(f.readline().split()[0])\n",
    "    if uptime_seconds < 3600. :\n",
    "        log.info(f'inactivity_points={d_persisted[\"inactivity_points\"]}>= 60., but uptime_seconds={uptime_seconds}<3600. Keeping the machine running...')\n",
    "    else :\n",
    "        log.info(f'inactivity_points={d_persisted[\"inactivity_points\"]}>= 60., shuting down the machine immediately.')\n",
    "        # Additionally, persist this log\n",
    "        shutil.copyfile('/tmp/latest_auto_shutdown.log', f'./shutdown_logs/shutdown_{now.isoformat()}.log')\n",
    "        os.system('shutdown -h now')\n",
    "else :\n",
    "    log.info(f'total inactivity_points = {d_persisted[\"inactivity_points\"]} < 60.. Just silently exiting this process.')"
   ]
  }
 ],
 "metadata": {
  "kernelspec": {
   "display_name": "Python 3 (ipykernel)",
   "language": "python",
   "name": "python3"
  },
  "language_info": {
   "codemirror_mode": {
    "name": "ipython",
    "version": 3
   },
   "file_extension": ".py",
   "mimetype": "text/x-python",
   "name": "python",
   "nbconvert_exporter": "python",
   "pygments_lexer": "ipython3",
   "version": "3.10.9"
  }
 },
 "nbformat": 4,
 "nbformat_minor": 5
}
