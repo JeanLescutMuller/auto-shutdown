{
 "cells": [
  {
   "cell_type": "code",
   "execution_count": 70,
   "id": "ecaca668-1546-4394-bc2d-36ca13b50570",
   "metadata": {
    "tags": []
   },
   "outputs": [],
   "source": [
    "import requests\n",
    "from bs4 import BeautifulSoup\n",
    "import json"
   ]
  },
  {
   "cell_type": "code",
   "execution_count": 84,
   "id": "20845acf-8ffb-4f35-a368-65c34b2c916a",
   "metadata": {
    "tags": []
   },
   "outputs": [],
   "source": [
    "jupyter_api_url = 'http://127.0.0.1/jupyter' # protocol://ip:port/prefix (all of them can change !)"
   ]
  },
  {
   "cell_type": "code",
   "execution_count": 86,
   "id": "894590bb-569e-4e14-9a93-d5fa130bb359",
   "metadata": {
    "tags": []
   },
   "outputs": [
    {
     "name": "stdout",
     "output_type": "stream",
     "text": [
      "200\n",
      "200\n"
     ]
    }
   ],
   "source": [
    "def authenticated_session() :\n",
    "    # Note : this will authenticate ONLY for the given jupyter_api_url.\n",
    "    # I.E : if using localhost, the session will only be allowed to query API towards localhost... etc...\n",
    "    s = requests.Session()\n",
    "    url = f'{jupyter_api_url}/login?next=%2F'\n",
    "    r = s.get(url)\n",
    "    print(r.status_code)\n",
    "    parsed_html = BeautifulSoup(r.content.decode('utf8'))\n",
    "    _xsrf = parsed_html.body.find('input', attrs={'name':'_xsrf'}).get('value')\n",
    "    r = s.post(url,params = {'_xsrf': _xsrf, 'password': 'jklmjklm34'})\n",
    "    print(r.status_code)\n",
    "    return s\n",
    "\n",
    "# For other mode of authentication (if you're not using passwords for example) please see token\n",
    "# https://jupyterhub.readthedocs.io/en/stable/howto/rest.htmlhttps://jupyterhub.readthedocs.io/en/stable/howto/rest.html\n",
    "\n",
    "s = authenticated_session()"
   ]
  },
  {
   "cell_type": "code",
   "execution_count": 112,
   "id": "d08b0148-4c47-45ab-bf46-3efac775cfcc",
   "metadata": {
    "tags": []
   },
   "outputs": [],
   "source": [
    "resp = s.get(f'{jupyter_api_url}/api/sessions')\n",
    "l_sessions = json.loads(resp.content)\n",
    "most_recent_kernel_activity = max([ d_session['kernel']['last_activity'] for d_session in l_sessions ])\n",
    "is_any_kernel_active = any([ d_session['kernel']['execution_state']=='busy' for d_session in l_sessions ])"
   ]
  },
  {
   "cell_type": "code",
   "execution_count": 93,
   "id": "6ed9b999-0a17-4230-9292-2b31563c9bf5",
   "metadata": {
    "tags": []
   },
   "outputs": [],
   "source": []
  },
  {
   "cell_type": "code",
   "execution_count": 111,
   "id": "9a1be29a-3e11-4152-84be-7d10eafa6a7c",
   "metadata": {
    "tags": []
   },
   "outputs": [],
   "source": []
  },
  {
   "cell_type": "code",
   "execution_count": 110,
   "id": "8ef5cf8c-1e79-4341-9f15-12e0134ff772",
   "metadata": {
    "tags": []
   },
   "outputs": [],
   "source": []
  }
 ],
 "metadata": {
  "kernelspec": {
   "display_name": "Python 3 (ipykernel)",
   "language": "python",
   "name": "python3"
  },
  "language_info": {
   "codemirror_mode": {
    "name": "ipython",
    "version": 3
   },
   "file_extension": ".py",
   "mimetype": "text/x-python",
   "name": "python",
   "nbconvert_exporter": "python",
   "pygments_lexer": "ipython3",
   "version": "3.10.9"
  }
 },
 "nbformat": 4,
 "nbformat_minor": 5
}
